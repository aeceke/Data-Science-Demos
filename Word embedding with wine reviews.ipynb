{
 "cells": [
  {
   "cell_type": "markdown",
   "metadata": {},
   "source": [
    "## The data\n",
    "\n",
    "The data was scraped from wine reviews on the WineEnthusiast website (winemag.com) in 2017. There are 130,000 reviews included and 10 features recorded: \n",
    "- country: The country that the wine is from\n",
    "- description: A few sentences from a sommelier describing the wine's taste, smell, look, feel, etc.\n",
    "- designation: The vineyard within the winery where the grapes that made the wine are from\n",
    "- points: The number of points WineEnthusiast rated the wine on a scale of 1-100\n",
    "- price: The cost for a bottle of the wine\n",
    "- province: The province or state that the wine is from\n",
    "- region_1: The wine growing area in a province or state\n",
    "- region_2: Sometimes there are more specific regions specified within a wine growing area\n",
    "- variety: The type of grapes used to make the wine\n",
    "- winery: The winery that made the wine\n",
    "\n",
    "(Source: https://www.kaggle.com/zynicide/wine-reviews)"
   ]
  },
  {
   "cell_type": "markdown",
   "metadata": {},
   "source": [
    "# Analysis tools\n",
    "For this analysis, we will focus on the wine descriptions. We use the word2vec word embedding to extract features for modeling. The gensim package (https://radimrehurek.com/gensim/index.html) was built \"to realize unsupervised semantic modelling from plain text\", and its implementation of word2vec is highly used. Word2vec uses neural networks to learn word embeddings from a corpus\n",
    "\n",
    "Genism word2vec requires a \"list of lists\" input for training. This means that every document is contained in a list, every list contains lists of tokens of that document.\n",
    "\n",
    "For easier computation, we randomly sampled 3000 descriptions from the data."
   ]
  },
  {
   "cell_type": "code",
   "execution_count": 2,
   "metadata": {},
   "outputs": [],
   "source": [
    "import gensim \n",
    "from gensim.models import Word2Vec\n",
    "\n",
    "import nltk\n",
    "from nltk.cluster import KMeansClusterer\n",
    "from nltk.tokenize import word_tokenize\n",
    "from nltk.stem import PorterStemmer\n",
    "import nltk\n",
    "import numpy as np\n",
    "import pandas as pd\n",
    "import re\n",
    "\n",
    "from sklearn import cluster\n",
    "from sklearn import metrics"
   ]
  },
  {
   "cell_type": "markdown",
   "metadata": {},
   "source": [
    "# Preprocessing\n",
    "For this demonstration, the raw text input will be preprocessed by \n",
    "- tokenizing the wine descriptions\n",
    "- removing special characters\n",
    "- stemming words"
   ]
  },
  {
   "cell_type": "markdown",
   "metadata": {},
   "source": [
    "# Training data"
   ]
  },
  {
   "cell_type": "code",
   "execution_count": 5,
   "metadata": {},
   "outputs": [
    {
     "data": {
      "text/html": [
       "<div>\n",
       "<style scoped>\n",
       "    .dataframe tbody tr th:only-of-type {\n",
       "        vertical-align: middle;\n",
       "    }\n",
       "\n",
       "    .dataframe tbody tr th {\n",
       "        vertical-align: top;\n",
       "    }\n",
       "\n",
       "    .dataframe thead th {\n",
       "        text-align: right;\n",
       "    }\n",
       "</style>\n",
       "<table border=\"1\" class=\"dataframe\">\n",
       "  <thead>\n",
       "    <tr style=\"text-align: right;\">\n",
       "      <th></th>\n",
       "      <th>Unnamed: 0</th>\n",
       "      <th>country</th>\n",
       "      <th>description</th>\n",
       "      <th>designation</th>\n",
       "      <th>points</th>\n",
       "      <th>price</th>\n",
       "      <th>province</th>\n",
       "      <th>region_1</th>\n",
       "      <th>region_2</th>\n",
       "      <th>variety</th>\n",
       "      <th>winery</th>\n",
       "    </tr>\n",
       "  </thead>\n",
       "  <tbody>\n",
       "    <tr>\n",
       "      <th>49827</th>\n",
       "      <td>49827</td>\n",
       "      <td>US</td>\n",
       "      <td>A superb white wine, and at this price, buy it...</td>\n",
       "      <td>NaN</td>\n",
       "      <td>90</td>\n",
       "      <td>10.0</td>\n",
       "      <td>California</td>\n",
       "      <td>California</td>\n",
       "      <td>California Other</td>\n",
       "      <td>White Blend</td>\n",
       "      <td>Kitchen Sink</td>\n",
       "    </tr>\n",
       "    <tr>\n",
       "      <th>80693</th>\n",
       "      <td>80693</td>\n",
       "      <td>US</td>\n",
       "      <td>This shows deep, classic flavors of sweet blac...</td>\n",
       "      <td>Estate</td>\n",
       "      <td>89</td>\n",
       "      <td>60.0</td>\n",
       "      <td>California</td>\n",
       "      <td>Oakville</td>\n",
       "      <td>Napa</td>\n",
       "      <td>Cabernet Sauvignon</td>\n",
       "      <td>Ghost Block</td>\n",
       "    </tr>\n",
       "    <tr>\n",
       "      <th>135476</th>\n",
       "      <td>135476</td>\n",
       "      <td>US</td>\n",
       "      <td>Rugged tannins are front and center in this yo...</td>\n",
       "      <td>NaN</td>\n",
       "      <td>92</td>\n",
       "      <td>22.0</td>\n",
       "      <td>California</td>\n",
       "      <td>Mendocino County</td>\n",
       "      <td>Mendocino/Lake Counties</td>\n",
       "      <td>Syrah</td>\n",
       "      <td>Eaglepoint Ranch</td>\n",
       "    </tr>\n",
       "    <tr>\n",
       "      <th>139565</th>\n",
       "      <td>139565</td>\n",
       "      <td>US</td>\n",
       "      <td>Here's an elegant, full-bodied Syrah that tast...</td>\n",
       "      <td>NaN</td>\n",
       "      <td>90</td>\n",
       "      <td>20.0</td>\n",
       "      <td>California</td>\n",
       "      <td>Mendocino</td>\n",
       "      <td>Mendocino/Lake Counties</td>\n",
       "      <td>Syrah</td>\n",
       "      <td>Jepson</td>\n",
       "    </tr>\n",
       "    <tr>\n",
       "      <th>57294</th>\n",
       "      <td>57294</td>\n",
       "      <td>Italy</td>\n",
       "      <td>Made with organically farmed grapes, this pret...</td>\n",
       "      <td>Ombrone</td>\n",
       "      <td>93</td>\n",
       "      <td>68.0</td>\n",
       "      <td>Tuscany</td>\n",
       "      <td>Sant'Antimo</td>\n",
       "      <td>NaN</td>\n",
       "      <td>Red Blend</td>\n",
       "      <td>Cupano</td>\n",
       "    </tr>\n",
       "  </tbody>\n",
       "</table>\n",
       "</div>"
      ],
      "text/plain": [
       "        Unnamed: 0 country                                        description  \\\n",
       "49827        49827      US  A superb white wine, and at this price, buy it...   \n",
       "80693        80693      US  This shows deep, classic flavors of sweet blac...   \n",
       "135476      135476      US  Rugged tannins are front and center in this yo...   \n",
       "139565      139565      US  Here's an elegant, full-bodied Syrah that tast...   \n",
       "57294        57294   Italy  Made with organically farmed grapes, this pret...   \n",
       "\n",
       "       designation  points  price    province          region_1  \\\n",
       "49827          NaN      90   10.0  California        California   \n",
       "80693       Estate      89   60.0  California          Oakville   \n",
       "135476         NaN      92   22.0  California  Mendocino County   \n",
       "139565         NaN      90   20.0  California         Mendocino   \n",
       "57294      Ombrone      93   68.0     Tuscany       Sant'Antimo   \n",
       "\n",
       "                       region_2             variety            winery  \n",
       "49827          California Other         White Blend      Kitchen Sink  \n",
       "80693                      Napa  Cabernet Sauvignon       Ghost Block  \n",
       "135476  Mendocino/Lake Counties               Syrah  Eaglepoint Ranch  \n",
       "139565  Mendocino/Lake Counties               Syrah            Jepson  \n",
       "57294                       NaN           Red Blend            Cupano  "
      ]
     },
     "execution_count": 5,
     "metadata": {},
     "output_type": "execute_result"
    }
   ],
   "source": [
    "data = pd.read_csv('winemag-data_first150k.csv')\n",
    "data = data.sample(n=3000, replace=False, random_state=20)\n",
    "data.head()"
   ]
  },
  {
   "cell_type": "code",
   "execution_count": 6,
   "metadata": {},
   "outputs": [],
   "source": [
    "ps = PorterStemmer()\n",
    "descriptions = map(lambda x: [ps.stem(word) for word in word_tokenize(x) if word.isalpha()], data['description'])\n",
    "descriptions = list(descriptions)"
   ]
  },
  {
   "cell_type": "markdown",
   "metadata": {},
   "source": [
    "### Model parameters\n",
    "- min_count: min_count (int, optional) – Ignores all words with total frequency lower than this.\n",
    "- sg ({0, 1}, optional) – Training algorithm: 1 for skip-gram; otherwise CBOW."
   ]
  },
  {
   "cell_type": "code",
   "execution_count": 7,
   "metadata": {},
   "outputs": [],
   "source": [
    "model = Word2Vec(descriptions, min_count=2, sg=1) #This step takes time!"
   ]
  },
  {
   "cell_type": "code",
   "execution_count": 8,
   "metadata": {},
   "outputs": [
    {
     "name": "stdout",
     "output_type": "stream",
     "text": [
      "2919\n"
     ]
    }
   ],
   "source": [
    "print(len(list(model.wv.vocab)))"
   ]
  },
  {
   "cell_type": "markdown",
   "metadata": {},
   "source": [
    "### A word embedding"
   ]
  },
  {
   "cell_type": "code",
   "execution_count": 9,
   "metadata": {},
   "outputs": [
    {
     "data": {
      "text/plain": [
       "array([-0.07597971,  0.1310538 , -0.32771713,  0.3004645 , -0.4521803 ,\n",
       "       -0.2689255 ,  0.1590628 ,  0.02296594,  0.04724645,  0.07343256,\n",
       "        0.16933341,  0.10677838,  0.01709262, -0.09936614, -0.02129284,\n",
       "        0.07412095,  0.09390995,  0.04142635,  0.12270662,  0.09816582,\n",
       "        0.16794205, -0.02665637,  0.05980275, -0.21308044,  0.02869127,\n",
       "       -0.21950397,  0.28281513,  0.1403475 ,  0.0506718 ,  0.00360228,\n",
       "       -0.18074654, -0.36003575, -0.06726761,  0.29333365, -0.14979821,\n",
       "        0.06029473,  0.1802619 ,  0.08294801, -0.13173887,  0.02355442,\n",
       "       -0.33699578, -0.1778378 ,  0.02191857,  0.04160624,  0.04238753,\n",
       "       -0.07926471, -0.27050608,  0.10234746, -0.1069548 , -0.24292292,\n",
       "       -0.02462904, -0.36222184,  0.15740441,  0.15079224,  0.51064473,\n",
       "       -0.15379298, -0.18687117, -0.07223091, -0.14384586, -0.04382729,\n",
       "        0.14086007, -0.14114599,  0.10078683,  0.48006043, -0.06596691,\n",
       "        0.2380501 ,  0.08179691,  0.10501269, -0.00507511, -0.30769378,\n",
       "       -0.02993231,  0.24253073, -0.16730225,  0.18789333,  0.01927052,\n",
       "        0.05796238, -0.09988529,  0.01845944,  0.02246139, -0.1758055 ,\n",
       "       -0.15207854,  0.19096568, -0.63348144, -0.21723217, -0.21012586,\n",
       "       -0.5414197 , -0.1077351 , -0.02518   , -0.04316591, -0.1651423 ,\n",
       "       -0.14327314, -0.02982864, -0.07202484, -0.11965688, -0.02922225,\n",
       "        0.43303162,  0.12047554, -0.11430669, -0.41248134, -0.6019886 ],\n",
       "      dtype=float32)"
      ]
     },
     "execution_count": 9,
     "metadata": {},
     "output_type": "execute_result"
    }
   ],
   "source": [
    "model.wv['oak']"
   ]
  },
  {
   "cell_type": "markdown",
   "metadata": {},
   "source": [
    "### What words are most similar, given a word of interest?"
   ]
  },
  {
   "cell_type": "code",
   "execution_count": 10,
   "metadata": {},
   "outputs": [
    {
     "data": {
      "text/html": [
       "<div>\n",
       "<style scoped>\n",
       "    .dataframe tbody tr th:only-of-type {\n",
       "        vertical-align: middle;\n",
       "    }\n",
       "\n",
       "    .dataframe tbody tr th {\n",
       "        vertical-align: top;\n",
       "    }\n",
       "\n",
       "    .dataframe thead th {\n",
       "        text-align: right;\n",
       "    }\n",
       "</style>\n",
       "<table border=\"1\" class=\"dataframe\">\n",
       "  <thead>\n",
       "    <tr style=\"text-align: right;\">\n",
       "      <th></th>\n",
       "      <th>0</th>\n",
       "      <th>1</th>\n",
       "    </tr>\n",
       "  </thead>\n",
       "  <tbody>\n",
       "    <tr>\n",
       "      <th>0</th>\n",
       "      <td>toasti</td>\n",
       "      <td>0.935635</td>\n",
       "    </tr>\n",
       "    <tr>\n",
       "      <th>1</th>\n",
       "      <td>coat</td>\n",
       "      <td>0.929530</td>\n",
       "    </tr>\n",
       "    <tr>\n",
       "      <th>2</th>\n",
       "      <td>subtl</td>\n",
       "      <td>0.928092</td>\n",
       "    </tr>\n",
       "    <tr>\n",
       "      <th>3</th>\n",
       "      <td>oaki</td>\n",
       "      <td>0.920242</td>\n",
       "    </tr>\n",
       "    <tr>\n",
       "      <th>4</th>\n",
       "      <td>butteri</td>\n",
       "      <td>0.918254</td>\n",
       "    </tr>\n",
       "    <tr>\n",
       "      <th>5</th>\n",
       "      <td>flood</td>\n",
       "      <td>0.918093</td>\n",
       "    </tr>\n",
       "    <tr>\n",
       "      <th>6</th>\n",
       "      <td>syrupi</td>\n",
       "      <td>0.917891</td>\n",
       "    </tr>\n",
       "    <tr>\n",
       "      <th>7</th>\n",
       "      <td>candi</td>\n",
       "      <td>0.917571</td>\n",
       "    </tr>\n",
       "    <tr>\n",
       "      <th>8</th>\n",
       "      <td>sticki</td>\n",
       "      <td>0.913546</td>\n",
       "    </tr>\n",
       "    <tr>\n",
       "      <th>9</th>\n",
       "      <td>minti</td>\n",
       "      <td>0.911939</td>\n",
       "    </tr>\n",
       "  </tbody>\n",
       "</table>\n",
       "</div>"
      ],
      "text/plain": [
       "         0         1\n",
       "0   toasti  0.935635\n",
       "1     coat  0.929530\n",
       "2    subtl  0.928092\n",
       "3     oaki  0.920242\n",
       "4  butteri  0.918254\n",
       "5    flood  0.918093\n",
       "6   syrupi  0.917891\n",
       "7    candi  0.917571\n",
       "8   sticki  0.913546\n",
       "9    minti  0.911939"
      ]
     },
     "execution_count": 10,
     "metadata": {},
     "output_type": "execute_result"
    }
   ],
   "source": [
    "pd.DataFrame(model.wv.similar_by_word('sweet'))"
   ]
  },
  {
   "cell_type": "code",
   "execution_count": 11,
   "metadata": {},
   "outputs": [
    {
     "data": {
      "text/html": [
       "<div>\n",
       "<style scoped>\n",
       "    .dataframe tbody tr th:only-of-type {\n",
       "        vertical-align: middle;\n",
       "    }\n",
       "\n",
       "    .dataframe tbody tr th {\n",
       "        vertical-align: top;\n",
       "    }\n",
       "\n",
       "    .dataframe thead th {\n",
       "        text-align: right;\n",
       "    }\n",
       "</style>\n",
       "<table border=\"1\" class=\"dataframe\">\n",
       "  <thead>\n",
       "    <tr style=\"text-align: right;\">\n",
       "      <th></th>\n",
       "      <th>0</th>\n",
       "      <th>1</th>\n",
       "    </tr>\n",
       "  </thead>\n",
       "  <tbody>\n",
       "    <tr>\n",
       "      <th>0</th>\n",
       "      <td>scent</td>\n",
       "      <td>0.950055</td>\n",
       "    </tr>\n",
       "    <tr>\n",
       "      <th>1</th>\n",
       "      <td>rose</td>\n",
       "      <td>0.949290</td>\n",
       "    </tr>\n",
       "    <tr>\n",
       "      <th>2</th>\n",
       "      <td>petal</td>\n",
       "      <td>0.939767</td>\n",
       "    </tr>\n",
       "    <tr>\n",
       "      <th>3</th>\n",
       "      <td>tone</td>\n",
       "      <td>0.933913</td>\n",
       "    </tr>\n",
       "    <tr>\n",
       "      <th>4</th>\n",
       "      <td>forest</td>\n",
       "      <td>0.930852</td>\n",
       "    </tr>\n",
       "    <tr>\n",
       "      <th>5</th>\n",
       "      <td>violet</td>\n",
       "      <td>0.929514</td>\n",
       "    </tr>\n",
       "    <tr>\n",
       "      <th>6</th>\n",
       "      <td>exot</td>\n",
       "      <td>0.925442</td>\n",
       "    </tr>\n",
       "    <tr>\n",
       "      <th>7</th>\n",
       "      <td>powder</td>\n",
       "      <td>0.924529</td>\n",
       "    </tr>\n",
       "    <tr>\n",
       "      <th>8</th>\n",
       "      <td>mix</td>\n",
       "      <td>0.917831</td>\n",
       "    </tr>\n",
       "    <tr>\n",
       "      <th>9</th>\n",
       "      <td>crush</td>\n",
       "      <td>0.917121</td>\n",
       "    </tr>\n",
       "  </tbody>\n",
       "</table>\n",
       "</div>"
      ],
      "text/plain": [
       "        0         1\n",
       "0   scent  0.950055\n",
       "1    rose  0.949290\n",
       "2   petal  0.939767\n",
       "3    tone  0.933913\n",
       "4  forest  0.930852\n",
       "5  violet  0.929514\n",
       "6    exot  0.925442\n",
       "7  powder  0.924529\n",
       "8     mix  0.917831\n",
       "9   crush  0.917121"
      ]
     },
     "execution_count": 11,
     "metadata": {},
     "output_type": "execute_result"
    }
   ],
   "source": [
    "pd.DataFrame(model.wv.similar_by_word('aroma'))"
   ]
  },
  {
   "cell_type": "code",
   "execution_count": 12,
   "metadata": {},
   "outputs": [
    {
     "data": {
      "text/html": [
       "<div>\n",
       "<style scoped>\n",
       "    .dataframe tbody tr th:only-of-type {\n",
       "        vertical-align: middle;\n",
       "    }\n",
       "\n",
       "    .dataframe tbody tr th {\n",
       "        vertical-align: top;\n",
       "    }\n",
       "\n",
       "    .dataframe thead th {\n",
       "        text-align: right;\n",
       "    }\n",
       "</style>\n",
       "<table border=\"1\" class=\"dataframe\">\n",
       "  <thead>\n",
       "    <tr style=\"text-align: right;\">\n",
       "      <th></th>\n",
       "      <th>0</th>\n",
       "      <th>1</th>\n",
       "    </tr>\n",
       "  </thead>\n",
       "  <tbody>\n",
       "    <tr>\n",
       "      <th>0</th>\n",
       "      <td>velveti</td>\n",
       "      <td>0.985352</td>\n",
       "    </tr>\n",
       "    <tr>\n",
       "      <th>1</th>\n",
       "      <td>suppl</td>\n",
       "      <td>0.984060</td>\n",
       "    </tr>\n",
       "    <tr>\n",
       "      <th>2</th>\n",
       "      <td>chewi</td>\n",
       "      <td>0.960713</td>\n",
       "    </tr>\n",
       "    <tr>\n",
       "      <th>3</th>\n",
       "      <td>silki</td>\n",
       "      <td>0.958493</td>\n",
       "    </tr>\n",
       "    <tr>\n",
       "      <th>4</th>\n",
       "      <td>weight</td>\n",
       "      <td>0.950627</td>\n",
       "    </tr>\n",
       "    <tr>\n",
       "      <th>5</th>\n",
       "      <td>solid</td>\n",
       "      <td>0.948345</td>\n",
       "    </tr>\n",
       "    <tr>\n",
       "      <th>6</th>\n",
       "      <td>textur</td>\n",
       "      <td>0.946961</td>\n",
       "    </tr>\n",
       "    <tr>\n",
       "      <th>7</th>\n",
       "      <td>bodi</td>\n",
       "      <td>0.945192</td>\n",
       "    </tr>\n",
       "    <tr>\n",
       "      <th>8</th>\n",
       "      <td>moder</td>\n",
       "      <td>0.941951</td>\n",
       "    </tr>\n",
       "    <tr>\n",
       "      <th>9</th>\n",
       "      <td>tight</td>\n",
       "      <td>0.940913</td>\n",
       "    </tr>\n",
       "  </tbody>\n",
       "</table>\n",
       "</div>"
      ],
      "text/plain": [
       "         0         1\n",
       "0  velveti  0.985352\n",
       "1    suppl  0.984060\n",
       "2    chewi  0.960713\n",
       "3    silki  0.958493\n",
       "4   weight  0.950627\n",
       "5    solid  0.948345\n",
       "6   textur  0.946961\n",
       "7     bodi  0.945192\n",
       "8    moder  0.941951\n",
       "9    tight  0.940913"
      ]
     },
     "execution_count": 12,
     "metadata": {},
     "output_type": "execute_result"
    }
   ],
   "source": [
    "pd.DataFrame(model.wv.similar_by_word('smooth'))"
   ]
  },
  {
   "cell_type": "markdown",
   "metadata": {},
   "source": [
    "### How similar are two words?"
   ]
  },
  {
   "cell_type": "code",
   "execution_count": 14,
   "metadata": {},
   "outputs": [
    {
     "name": "stdout",
     "output_type": "stream",
     "text": [
      "0.5425669\n",
      "0.70126396\n",
      "0.4152811\n"
     ]
    }
   ],
   "source": [
    "print(model.wv.similarity('smooth', 'aroma'))\n",
    "\n",
    "print(model.wv.similarity('sweet', 'smoke'))\n",
    "\n",
    "print(model.wv.similarity('valley', 'fruit'))"
   ]
  },
  {
   "cell_type": "markdown",
   "metadata": {},
   "source": [
    "# Clustering\n",
    "In order to cluster at the sentence/description level, we will summarize the embeddings. For each description, the word embedding of each word is summed and then divided by the number of words in the description."
   ]
  },
  {
   "cell_type": "code",
   "execution_count": 15,
   "metadata": {},
   "outputs": [],
   "source": [
    "def desc_vectorizer(desc, model):\n",
    "    desc_vec =[]\n",
    "    numw = 0\n",
    "    for w in desc:\n",
    "        try:\n",
    "            if numw == 0:\n",
    "                desc_vec = model.wv[w]\n",
    "            else:\n",
    "                desc_vec = np.add(desc_vec, model.wv[w])\n",
    "            numw+=1\n",
    "        except:\n",
    "            pass\n",
    "     \n",
    "    return np.asarray(desc_vec) / numw"
   ]
  },
  {
   "cell_type": "code",
   "execution_count": 16,
   "metadata": {},
   "outputs": [],
   "source": [
    "X = []\n",
    "for d in descriptions:\n",
    "    X.append(desc_vectorizer(d, model))"
   ]
  },
  {
   "cell_type": "code",
   "execution_count": 17,
   "metadata": {},
   "outputs": [
    {
     "data": {
      "text/plain": [
       "array([ 1.11052744e-01,  3.15503240e-01, -1.79306492e-01,  8.35840702e-02,\n",
       "       -2.76175767e-01, -7.13394880e-02, -2.48630736e-02, -7.34239295e-02,\n",
       "        2.09095314e-01,  2.50062551e-02,  2.05645606e-01,  1.51700571e-01,\n",
       "        4.85038236e-02,  4.82370518e-02, -1.87018812e-01,  4.35862392e-02,\n",
       "        2.19483040e-02,  4.07208540e-02,  3.11185300e-01,  8.91603976e-02,\n",
       "        1.50228158e-01, -1.34339541e-01,  1.30573362e-02, -2.91869760e-01,\n",
       "       -3.98844555e-02,  4.56932262e-02, -9.64331180e-02,  1.27742574e-01,\n",
       "        5.36179766e-02, -5.73386177e-02, -2.72723049e-01, -1.56705409e-01,\n",
       "        1.89898387e-01,  1.19654603e-01, -9.77070034e-02,  1.08215354e-01,\n",
       "        2.51348674e-01,  1.21520109e-01, -2.86763221e-01,  1.61906909e-02,\n",
       "       -2.03912050e-01, -2.76909828e-01, -1.61383405e-01, -8.49592239e-02,\n",
       "       -1.99470180e-03, -1.89555380e-02, -2.39270195e-01,  8.91750157e-02,\n",
       "       -1.86875850e-01, -8.72319117e-02,  1.27924969e-02, -3.85179400e-01,\n",
       "        5.86738624e-02,  8.12204555e-02,  3.05245578e-01,  2.31534541e-01,\n",
       "       -1.43301532e-01, -1.47677884e-01, -4.32964228e-02, -1.28112003e-01,\n",
       "       -7.65553191e-02, -9.25385877e-02, -3.02441738e-04,  2.20297515e-01,\n",
       "       -1.25610083e-01,  1.97328702e-01, -7.05508664e-02,  1.08439192e-01,\n",
       "        1.78056151e-01, -1.70902446e-01,  2.66474988e-02,  4.96146195e-02,\n",
       "        4.26114611e-02,  1.74878150e-01,  3.15467045e-02,  2.41219372e-01,\n",
       "       -2.31975213e-01,  5.94256446e-02, -2.00026870e-01, -3.41011025e-02,\n",
       "        1.72868576e-02,  1.85991496e-01, -1.88149765e-01, -1.36363402e-01,\n",
       "        1.68831483e-01, -2.96322346e-01, -8.39525014e-02, -6.07087649e-02,\n",
       "       -8.29634443e-02, -3.70699540e-02, -3.30986008e-02, -3.01724989e-02,\n",
       "       -5.74720316e-02, -7.40431771e-02, -7.80101642e-02,  1.18208490e-02,\n",
       "       -6.98381811e-02,  6.18849008e-04, -1.20270081e-01, -2.54456639e-01],\n",
       "      dtype=float32)"
      ]
     },
     "execution_count": 17,
     "metadata": {},
     "output_type": "execute_result"
    }
   ],
   "source": [
    "X[0]"
   ]
  },
  {
   "cell_type": "markdown",
   "metadata": {},
   "source": [
    "# K-means clustering"
   ]
  },
  {
   "cell_type": "markdown",
   "metadata": {},
   "source": [
    "### 2 clusters"
   ]
  },
  {
   "cell_type": "code",
   "execution_count": 21,
   "metadata": {},
   "outputs": [
    {
     "name": "stdout",
     "output_type": "stream",
     "text": [
      "[0, 0, 0]\n"
     ]
    }
   ],
   "source": [
    "NUM_CLUSTERS = 2\n",
    "kclusterer = KMeansClusterer(NUM_CLUSTERS, distance=nltk.cluster.util.cosine_distance, repeats=25)\n",
    "assigned_clusters = kclusterer.cluster(X, assign_clusters=True)\n",
    "print(assigned_clusters[:3]) "
   ]
  },
  {
   "cell_type": "code",
   "execution_count": 24,
   "metadata": {},
   "outputs": [
    {
     "data": {
      "image/png": "[encoded data removed]",
      "text/plain": [
       "<Figure size 432x288 with 1 Axes>"
      ]
     },
     "metadata": {
      "needs_background": "light"
     },
     "output_type": "display_data"
    }
   ],
   "source": [
    "import matplotlib.pyplot as plt\n",
    "from sklearn.manifold import TSNE\n",
    "\n",
    "tsnemodel = TSNE(n_components=2, random_state=0)\n",
    "np.set_printoptions(suppress=True)\n",
    "\n",
    "Y = tsnemodel.fit_transform(X)\n",
    "\n",
    "plt.scatter(Y[:, 0], Y[:, 1], c=assigned_clusters, s=290,alpha=.5)\n",
    "plt.show()"
   ]
  },
  {
   "cell_type": "markdown",
   "metadata": {},
   "source": [
    "### 4 clusters"
   ]
  },
  {
   "cell_type": "code",
   "execution_count": 25,
   "metadata": {},
   "outputs": [
    {
     "data": {
      "image/png": "[encoded data removed]",
      "text/plain": [
       "<Figure size 432x288 with 1 Axes>"
      ]
     },
     "metadata": {
      "needs_background": "light"
     },
     "output_type": "display_data"
    }
   ],
   "source": [
    "NUM_CLUSTERS = 4\n",
    "kclusterer = KMeansClusterer(NUM_CLUSTERS, distance=nltk.cluster.util.cosine_distance, repeats=25)\n",
    "assigned_clusters = kclusterer.cluster(X, assign_clusters=True)\n",
    "tsnemodel = TSNE(n_components=2, random_state=0)\n",
    "np.set_printoptions(suppress=True)\n",
    "\n",
    "Y = tsnemodel.fit_transform(X)\n",
    "\n",
    "plt.scatter(Y[:, 0], Y[:, 1], c=assigned_clusters, s=290,alpha=.5)\n",
    "plt.show()"
   ]
  },
  {
   "cell_type": "code",
   "execution_count": null,
   "metadata": {},
   "outputs": [],
   "source": []
  }
 ],
 "metadata": {
  "kernelspec": {
   "display_name": "Python 3",
   "language": "python",
   "name": "python3"
  },
  "language_info": {
   "codemirror_mode": {
    "name": "ipython",
    "version": 3
   },
   "file_extension": ".py",
   "mimetype": "text/x-python",
   "name": "python",
   "nbconvert_exporter": "python",
   "pygments_lexer": "ipython3",
   "version": "3.7.6"
  }
 },
 "nbformat": 4,
 "nbformat_minor": 4
}
